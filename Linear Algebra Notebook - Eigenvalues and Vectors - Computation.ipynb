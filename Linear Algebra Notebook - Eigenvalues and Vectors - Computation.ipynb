{
 "cells": [
  {
   "cell_type": "markdown",
   "metadata": {},
   "source": [
    "### Now that we realized eigenvalues and eigenvectors can be pretty important for a symmetric square matrix, let us how to find them.\n",
    "We know that for eigenvalies $\\lambda$ and (nonzero) eigenvectors __v__ the equation;\n",
    "$$Av = \\lambda v$$\n",
    "Which amounts to $Av - \\lambda v = 0$ or $$(A - \\lambda I)v = 0$$  So the nonzero vector __v__ must be in the null space of $(A-\\lambda I)$\n",
    "which in turn means $det(A - \\lambda I) = 0$ as otherwise, v = 0.\n",
    "So for eigenvalues $\\lambda$ $$det(A - \\lambda I) = 0,$$ and this equation is called the __characterisitc equation__ of the matrix A.\n",
    "e.g."
   ]
  },
  {
   "cell_type": "markdown",
   "metadata": {},
   "source": [
    "For example, let A =$\\begin{bmatrix}\n",
    "    3&0&-1\\\\\n",
    "    2&3&1\\\\\n",
    "    -3&4&5\\\\\n",
    "    \\end{bmatrix}$  b =$\\begin{bmatrix}\n",
    "    1\\\\\n",
    "    1\\\\\n",
    "    -1\\\\\n",
    "    \\end{bmatrix}$\n",
    "    and  $\\lambda = 4$ "
   ]
  },
  {
   "cell_type": "markdown",
   "metadata": {},
   "source": [
    "We want to solve:\n",
    "$$det(\\begin{bmatrix}\n",
    "    3-\\lambda&0&-1\\\\\n",
    "    2&3-\\lambda&1\\\\\n",
    "    -3&4&5-\\lambda\\\\\n",
    "    \\end{bmatrix})  = 0$$"
   ]
  },
  {
   "cell_type": "markdown",
   "metadata": {},
   "source": [
    "Upon expanding this matrix on the first row, we end up with:  $$(3-\\lambda)((3-\\lambda)(5-\\lambda)-4)  + (-1)(8 + 3(3-\\lambda))=0$$."
   ]
  },
  {
   "cell_type": "markdown",
   "metadata": {},
   "source": [
    "$$(3-\\lambda)(\\lambda^2-8\\lambda+11) + (3\\lambda - 17) = 0$$"
   ]
  },
  {
   "cell_type": "markdown",
   "metadata": {},
   "source": [
    "$$-\\lambda^3 + 11\\lambda^2 - 35\\lambda + 33 + 3\\lambda - 17 = 0$$"
   ]
  },
  {
   "cell_type": "code",
   "execution_count": null,
   "metadata": {
    "collapsed": true
   },
   "outputs": [],
   "source": []
  }
 ],
 "metadata": {
  "kernelspec": {
   "display_name": "Python 3",
   "language": "python",
   "name": "python3"
  },
  "language_info": {
   "codemirror_mode": {
    "name": "ipython",
    "version": 3
   },
   "file_extension": ".py",
   "mimetype": "text/x-python",
   "name": "python",
   "nbconvert_exporter": "python",
   "pygments_lexer": "ipython3",
   "version": "3.6.1"
  }
 },
 "nbformat": 4,
 "nbformat_minor": 2
}
