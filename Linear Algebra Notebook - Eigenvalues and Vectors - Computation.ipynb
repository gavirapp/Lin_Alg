{
 "cells": [
  {
   "cell_type": "markdown",
   "metadata": {},
   "source": [
    "### Now that we realized eigenvalues and eigenvectors can be pretty important for a symmetric square matrix, let us explore how to find them for a matrix A:\n",
    "We know that for eigenvalies $\\lambda$ and (nonzero) eigenvectors **v** we have the equation:\n",
    "$$Av = \\lambda v$$  \n",
    "\n",
    "Which amounts to $Av - \\lambda v = 0$ or $$(A - \\lambda I)v = 0$$  \n",
    "\n",
    "So the nonzero vector **v** must be in the null space of $(A-\\lambda I)$\n",
    "which in turn means $det(A - \\lambda I) = 0$ as otherwise, v = 0.  \n",
    "\n",
    "So for eigenvalues $\\lambda$ $$det(A - \\lambda I) = 0,$$  \n",
    "\n",
    "and this equation is called the **characterisitc equation** of the matrix A.\n",
    "e.g."
   ]
  },
  {
   "cell_type": "markdown",
   "metadata": {},
   "source": [
    "For example, let A =$\\begin{bmatrix}\n",
    "    3&2\\\\\n",
    "    -4&9\\\\\n",
    "    \\end{bmatrix}$  v =$\\begin{bmatrix}\n",
    "    1\\\\\n",
    "    1\\\\\n",
    "    \\end{bmatrix}$\n",
    "    and  $\\lambda = 5$\n",
    "    \n",
    "It is easy to check that $(A - \\lambda I)v = 0$.  However, if we didn't know __v__ and $\\lambda = 5$ ahead of time,"
   ]
  },
  {
   "cell_type": "markdown",
   "metadata": {},
   "source": [
    "Then would want to solve:\n",
    "$$det(\\begin{bmatrix}\n",
    "    3-\\lambda&2\\\\\n",
    "    -4&9-\\lambda\\\\\n",
    "    \\end{bmatrix})  = 0$$"
   ]
  },
  {
   "cell_type": "markdown",
   "metadata": {},
   "source": [
    "Upon expanding this matrix on the first row, we end up with:  $$(3-\\lambda)(9-\\lambda) - (-4)2=0$$."
   ]
  },
  {
   "cell_type": "markdown",
   "metadata": {},
   "source": [
    "$$\\lambda^2 - 12\\lambda + 27 + 8 = 0$$\n",
    "$$(\\lambda - 7)(\\lambda - 5) = 0$$\n",
    " and so $\\lambda = 7$ or $\\lambda = 5$ are the eigen values of the matrix A."
   ]
  },
  {
   "cell_type": "markdown",
   "metadata": {
    "collapsed": true
   },
   "source": [
    "Now to find the corresponding eigenvectors, we want to solve the equations $$Av = 7v$$ and $$Av =5v$$"
   ]
  },
  {
   "cell_type": "markdown",
   "metadata": {},
   "source": [
    "__Av = 7v:__\n",
    "\n",
    "This really amount to solving the homogeneous equation: $(A - 7I)v = 0$.  So, we just have to row reduce the matrix:$$\\begin{bmatrix}\n",
    "    3-7&2\\\\\n",
    "    -4&9-7\\\\\n",
    "    \\end{bmatrix}$$\n",
    "$$ ~ \\begin{bmatrix}\n",
    "    -4&2\\\\\n",
    "    -4&2\\\\\n",
    "    \\end{bmatrix}$$\n",
    "    \n",
    "$$ ~ \\begin{bmatrix}\n",
    "    1&-1/2\\\\\n",
    "    0&0\\\\\n",
    "    \\end{bmatrix}$$\n",
    "    \n",
    "So, now have a free variable and the solution would be the span of \\begin{bmatrix}\n",
    "    1/2\\\\\n",
    "    1\\\\\n",
    "    \\end{bmatrix}\n",
    "\n",
    "And all those vectors would be corresponding eigenvector of $\\lambda = 7$.  In fact, we say that the eigenspace, $E_7 = span\\{\\begin{bmatrix}\n",
    "   1/2\\\\\n",
    "   1\\\\\n",
    "    \\end{bmatrix}\\}$\n",
    "\n"
   ]
  },
  {
   "cell_type": "markdown",
   "metadata": {},
   "source": [
    "__Av = 5v:__\n",
    "\n",
    "We already know an eigenvector:\\begin{bmatrix}\n",
    "    1\\\\\n",
    "    1\\\\\n",
    "    \\end{bmatrix}\n",
    "And so the span of this vector would all be eigenvectors corresponding to $\\lambda=5$ and so we have:$E_5 = span\\{\\begin{bmatrix}\n",
    "   1\\\\\n",
    "   1\\\\\n",
    "    \\end{bmatrix}\\}$"
   ]
  },
  {
   "cell_type": "markdown",
   "metadata": {},
   "source": [
    "Now let us look at 4X4 square matrix $$ A = \\begin{bmatrix}\n",
    "    3&0&0&13\\\\\n",
    "    -25&7&11&-6\\\\\n",
    "    18&0&1&5\\\\\n",
    "    0&0&0&-2\\\\\n",
    "    \\end{bmatrix}$$"
   ]
  },
  {
   "cell_type": "markdown",
   "metadata": {},
   "source": [
    "Its charecteristic equation would be,  $$det\\Big{(}\\begin{bmatrix}\n",
    "    3-\\lambda&0&0&13\\\\\n",
    "    -25&7-\\lambda&11&-6\\\\\n",
    "    18&0&1-\\lambda&5\\\\\n",
    "    0&0&0&-2-\\lambda\\\\\n",
    "    \\end{bmatrix}\\Big{)} = 0$$"
   ]
  },
  {
   "cell_type": "markdown",
   "metadata": {},
   "source": [
    "__Exercise:__  Now you try finding the eigenvalues and eigenvectors of _______"
   ]
  },
  {
   "cell_type": "code",
   "execution_count": null,
   "metadata": {
    "collapsed": true
   },
   "outputs": [],
   "source": []
  }
 ],
 "metadata": {
  "kernelspec": {
   "display_name": "Python 3",
   "language": "python",
   "name": "python3"
  },
  "language_info": {
   "codemirror_mode": {
    "name": "ipython",
    "version": 3
   },
   "file_extension": ".py",
   "mimetype": "text/x-python",
   "name": "python",
   "nbconvert_exporter": "python",
   "pygments_lexer": "ipython3",
   "version": "3.7.3"
  }
 },
 "nbformat": 4,
 "nbformat_minor": 2
}
